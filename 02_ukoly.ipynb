{
 "cells": [
  {
   "attachments": {},
   "cell_type": "markdown",
   "metadata": {},
   "source": [
    "# Prostory jmen a obor platnosti proměnných:\n",
    "- Upravte funkci nalézající prvočísla tak, aby ukládala již spočítané prvočísla do listu v defaultním argumentu funkce. \n"
   ]
  },
  {
   "cell_type": "code",
   "execution_count": 3,
   "metadata": {},
   "outputs": [
    {
     "name": "stdout",
     "output_type": "stream",
     "text": [
      "[2, 3, 5, 7, 11, 13, 17, 19, 23, 29]\n",
      "[2, 3, 5, 7, 11, 13, 17, 19, 23, 29, 2, 3, 5, 7, 11, 13, 17, 19, 23, 29]\n",
      "[2, 3, 5, 7, 11]\n"
     ]
    }
   ],
   "source": [
    "def najdi_prvocisla(pocet, prvocisla = []):\n",
    "    if len(prvocisla)>=pocet:\n",
    "        return prvocisla[:pocet]\n",
    "    n = 2\n",
    "    while len(prvocisla) < pocet:\n",
    "        check = True\n",
    "        for i in range(2, n):\n",
    "            if(n%i == 0):\n",
    "                check = False\n",
    "                break\n",
    "        if check:\n",
    "            prvocisla.append(n)\n",
    "        n+=1\n",
    "    return prvocisla[:pocet]\n",
    "\n",
    "print(najdi_prvocisla(10))\n",
    "print(najdi_prvocisla(20))\n",
    "print(najdi_prvocisla(5))"
   ]
  },
  {
   "attachments": {},
   "cell_type": "markdown",
   "metadata": {},
   "source": [
    "\n",
    "# Jupyter magics:\n",
    "- použijte funkci %%writefile a pomocí ní (a kopie funkcí z posledního DU) vytvořte .py soubor sloužící jako modul mající tři funkce viz minulý DU\n",
    "- Použijte magic příkazy %time %timeit %%time a %%timeit k měření času běhu různých částí kódu (například funkcí z minulého DU).\n"
   ]
  },
  {
   "cell_type": "code",
   "execution_count": 7,
   "metadata": {},
   "outputs": [
    {
     "name": "stdout",
     "output_type": "stream",
     "text": [
      "Overwriting ahoj.py\n"
     ]
    }
   ],
   "source": [
    "%%writefile ahoj.py\n",
    "\n",
    "def odmocnina(a, n):\n",
    "    x=a\n",
    "    for i in range(n):\n",
    "        x=((a/x)+x)/2\n",
    "    return x\n",
    "\n",
    "def pi_v1(n):\n",
    "    v_n = odmocnina(1-(0.5)**2,100)\n",
    "    b_n = 1\n",
    "    a = 1\n",
    "    for i in range(n):\n",
    "        b_2n = odmocnina(((b_n/2)**2)+((1-v_n)**2),100)\n",
    "        v_2n = odmocnina(1-((b_2n/2)**2),100)\n",
    "        b_n = b_2n\n",
    "        v_n = v_2n\n",
    "    return 6*(2**n)*b_2n*v_2n/2\n",
    "\n",
    "def pi_v2(n):\n",
    "    suma = 0\n",
    "    a = 1/(2**4)\n",
    "    for i in range(1, n+1):\n",
    "        suma+=a/((2*i)+1)\n",
    "        a = a * ((2*(i+1)-3)/(2*(i+1)))*(1/(2**2))\n",
    "    return 12*((-odmocnina(3,100000)/8)+0.5-suma)\n"
   ]
  },
  {
   "cell_type": "code",
   "execution_count": 9,
   "metadata": {},
   "outputs": [],
   "source": [
    "def odmocnina(a, n):\n",
    "    x=a\n",
    "    for i in range(n):\n",
    "        x=((a/x)+x)/2\n",
    "    return x\n",
    "\n",
    "def pi_v1(n):\n",
    "    v_n = odmocnina(1-(0.5)**2,100)\n",
    "    b_n = 1\n",
    "    a = 1\n",
    "    for i in range(n):\n",
    "        b_2n = odmocnina(((b_n/2)**2)+((1-v_n)**2),100)\n",
    "        v_2n = odmocnina(1-((b_2n/2)**2),100)\n",
    "        b_n = b_2n\n",
    "        v_n = v_2n\n",
    "    return 6*(2**n)*b_2n*v_2n/2\n",
    "\n",
    "def pi_v2(n):\n",
    "    suma = 0\n",
    "    a = 1/(2**4)\n",
    "    for i in range(1, n+1):\n",
    "        suma+=a/((2*i)+1)\n",
    "        a = a * ((2*(i+1)-3)/(2*(i+1)))*(1/(2**2))\n",
    "    return 12*((-odmocnina(3,100000)/8)+0.5-suma)"
   ]
  },
  {
   "cell_type": "code",
   "execution_count": 13,
   "metadata": {},
   "outputs": [
    {
     "name": "stdout",
     "output_type": "stream",
     "text": [
      "3.14159265358927\n",
      "------------------------\n",
      "3.1415926535897936\n"
     ]
    }
   ],
   "source": [
    "%time pi_v1(20)\n",
    "print(\"------------------------\")\n",
    "%timeit pi_v2(20)\n"
   ]
  },
  {
   "cell_type": "code",
   "execution_count": 14,
   "metadata": {},
   "outputs": [
    {
     "name": "stdout",
     "output_type": "stream",
     "text": [
      "CPU times: user 52.5 ms, sys: 3.85 ms, total: 56.3 ms\n",
      "Wall time: 145 ms\n"
     ]
    },
    {
     "data": {
      "text/plain": [
       "3.1415926535897936"
      ]
     },
     "execution_count": 14,
     "metadata": {},
     "output_type": "execute_result"
    }
   ],
   "source": [
    "%%time\n",
    "odmocnina(1000,10000)\n",
    "pi_v1(50)\n",
    "pi_v2(50)"
   ]
  },
  {
   "cell_type": "code",
   "execution_count": 15,
   "metadata": {},
   "outputs": [
    {
     "name": "stdout",
     "output_type": "stream",
     "text": [
      "55.5 ms ± 7.43 ms per loop (mean ± std. dev. of 7 runs, 10 loops each)\n"
     ]
    }
   ],
   "source": [
    "%%timeit\n",
    "odmocnina(1000,100)\n",
    "pi_v1(10)\n",
    "pi_v2(10)"
   ]
  },
  {
   "cell_type": "markdown",
   "metadata": {},
   "source": [
    "\n",
    "# Práce s řetězci:\n",
    "\n",
    "- Použíjte funkce z minulého úkolu a v cyklu spočtěte $\\pi$ s různým $n$. Pomocí f-strings vypište výsledky ve formátu \"n = 5, pi = 3.14159, počet správných cifer = 5\".\n"
   ]
  },
  {
   "cell_type": "code",
   "execution_count": 16,
   "metadata": {},
   "outputs": [
    {
     "name": "stdout",
     "output_type": "stream",
     "text": [
      "n = 10, pi1 = 3.141592105999271, pocet spravnych cifer = 6\n",
      "n = 10, pi2 = 3.1415926542141035, pocet spravnych cifer = 9\n"
     ]
    }
   ],
   "source": [
    "import math\n",
    "n = 10\n",
    "piv1 = pi_v1(n)\n",
    "piv2 = pi_v2(n)\n",
    "psc1 = math.floor(- math.log10(abs(math.pi - piv1)))\n",
    "psc2 = math.floor(- math.log10(abs(math.pi - piv2)))\n",
    "print(f\"n = {n}, pi1 = {piv1}, pocet spravnych cifer = {psc1}\")\n",
    "print(f\"n = {n}, pi2 = {piv2}, pocet spravnych cifer = {psc2}\")"
   ]
  },
  {
   "cell_type": "markdown",
   "metadata": {},
   "source": [
    "\n",
    "# Generátory a iterátory:\n",
    "\n",
    "- Napište generátor (funkci), který vytváří Fibonacciho posloupnost a vrátí prvních $n$ členů.\n"
   ]
  },
  {
   "cell_type": "code",
   "execution_count": 29,
   "metadata": {},
   "outputs": [
    {
     "name": "stdout",
     "output_type": "stream",
     "text": [
      "0\n",
      "1\n",
      "1\n",
      "2\n",
      "3\n",
      "5\n",
      "8\n",
      "13\n",
      "21\n",
      "34\n"
     ]
    }
   ],
   "source": [
    "def genfib(n):\n",
    "    a1 = 0\n",
    "    a2 = 1\n",
    "    for i in range(n):\n",
    "        yield a1\n",
    "        a3 = a1 + a2\n",
    "        a1 = a2\n",
    "        a2 = a3\n",
    "\n",
    "gen = genfib(10)\n",
    "for i in range(10):\n",
    "    print(next(gen))\n",
    "\n"
   ]
  },
  {
   "cell_type": "markdown",
   "metadata": {},
   "source": [
    "\n",
    "# List comprehension:\n",
    "- Vytvořte seznam čísel od 1 do 10 pomocí list comprehension.\n",
    "- Vytvořte seznam druhých mocnin čísel od 1 do 10 pomocí list comprehension.\n",
    "- Vytvořte seznam prvočísel od 1 do 100 pomocí list comprehension. Hint (použijte funkci all() na generátor testující dělitelnost).\n"
   ]
  },
  {
   "cell_type": "code",
   "execution_count": 57,
   "metadata": {},
   "outputs": [
    {
     "name": "stdout",
     "output_type": "stream",
     "text": [
      "[1, 2, 3, 4, 5, 6, 7, 8, 9, 10]\n",
      "[1, 4, 9, 16, 25, 36, 49, 64, 81, 100]\n",
      "[2, 3, 5, 7, 11, 13, 17, 19, 23, 29, 31, 37, 41, 43, 47, 53, 59, 61, 67, 71, 73, 79, 83, 89, 97]\n"
     ]
    }
   ],
   "source": [
    "print([i for i in range(1, 11)])\n",
    "print([i**2 for i in range(1, 11)])\n",
    "print([i for i in range(2, 101) if all(i % j != 0 for j in range(2, int(i**0.5)+1))])\n"
   ]
  },
  {
   "cell_type": "markdown",
   "metadata": {},
   "source": [
    "\n",
    "# Práce se soubory:\n",
    "- Pomocí %%writefile vytvořte soubor s nějakým textem.\n",
    "- Otevřete soubor pro čtení a vypište jeho obsah.\n",
    "- Otevřete jiný soubor pro zápis a napište do něj textový řetězec.\n",
    "- Pomocí f-strings zapište do souboru tabulku čísel od 1 do 10, jejich druhých mocnin a jejich druhých odmocnin."
   ]
  },
  {
   "cell_type": "code",
   "execution_count": 30,
   "metadata": {},
   "outputs": [
    {
     "name": "stdout",
     "output_type": "stream",
     "text": [
      "Writing ahojda.txt\n"
     ]
    }
   ],
   "source": [
    "%%writefile ahojda.txt\n",
    "jablko 2\n",
    "hruska 2\n",
    "avokado 4\n",
    "merunka 6\n",
    "ananas 1\n",
    "jahoda 2\n",
    "バナナ 3"
   ]
  },
  {
   "cell_type": "code",
   "execution_count": 38,
   "metadata": {},
   "outputs": [
    {
     "name": "stdout",
     "output_type": "stream",
     "text": [
      "jablko 2\n",
      "hruska 2\n",
      "avokado 4\n",
      "merunka 6\n",
      "ananas 1\n",
      "jahoda 2\n",
      "バナナ 3\n"
     ]
    }
   ],
   "source": [
    "from math import sqrt\n",
    "with open(\"ahojda.txt\", \"r\") as soubor:\n",
    "    for i, radek in enumerate(soubor):\n",
    "        print(f\"{radek.rstrip()}\")\n",
    "\n",
    "with open(\"druhy-soubor.txt\", \"a\") as soubor:\n",
    "    soubor.write(f\"Mam rad f stringy!\\n\")\n",
    "    for i in range(1,11):\n",
    "        soubor.write(f\"Cislo = {i}, druha mocnina = {i**2}, druha odmocnina = {sqrt(i)}\\n\")"
   ]
  },
  {
   "attachments": {},
   "cell_type": "markdown",
   "metadata": {},
   "source": [
    "# Domácí úkol:\n",
    "Pomocí vlastních tříd a dědičnosti vytvořte \"soubor tříd\" = nástroj pro derivaci funkcí.\n",
    "\n",
    "Konkrétněji:\n",
    "- Vytvořte třídu **Operator**\n",
    "    - Třída bude mít metody:\n",
    "        - `__init__()` - inicializuje operátor (zde stačí `pass`)\n",
    "        - `__str__()` - vrací řetězec reprezentující operátor\n",
    "        - `__repr__()` - vrací řetězec reprezentující operátor\n",
    "- Vytvořte třídu **BinaryOperator**, která bude dědit od třídy Operator\n",
    "    - Třída bude mít atributy:\n",
    "        - `levy_argument` - levý operand\n",
    "        - `pravy_argument` - pravý operand\n",
    "    - Třída bude mít metody:\n",
    "        - `__init__()` - inicializuje operátor, přiřadí argumenty\n",
    "        - `__str__()` - vrací řetězec reprezentující operátor\n",
    "        - `__repr__()` - vrací řetězec reprezentující operátor\n",
    "        - `diff()` - vrací derivaci operátoru\n",
    "- Vytvořte třídu **UnaryOperator**, která bude dědit od třídy Operator\n",
    "    - Třída bude mít atributy:\n",
    "        - `argument` - argument funkce \n",
    "    - Třída bude mít metody:\n",
    "        - `__init__()` - inicializuje operátor, přiřadí argument\n",
    "        - `__str__()` - vrací řetězec reprezentující operátor\n",
    "        - `__repr__()` - vrací řetězec reprezentující operátor\n",
    "        - `diff()` - vrací derivaci operátoru\n",
    "\n",
    "Pro počítání derivací použijte standardní pravidla:\n",
    "- derivace součtu je součet derivací\n",
    "- pravidlo pro derivaci součinu\n",
    "- derivace funkce je derivovaná funkce násobená derivovaným argumentem\n",
    "\n",
    "Pro **BinaryOperator** a **UnaryOperator** implementujte také metody implementující standardní operátory:\n",
    "- `__add__()` - implementuje operátor `+`\n",
    "- `__sub__()` - implementuje operátor `-`\n",
    "- `__mul__()` - implementuje operátor `*`\n",
    "\n",
    "Pro **BinaryOperator** implementujte dvě dceřiné třídy:\n",
    "- **Addition** - implementuje operátor `+`\n",
    "- **Multiplication** - implementuje operátor `*`\n",
    "\n",
    "Pro **UnaryOperator** implementujte tyto dceřiné třídy:\n",
    "- **exp** - implementuje funkci `exp`\n",
    "- **sin** - implementuje funkci `sin`\n",
    "- **cos** - implementuje funkci `cos`\n",
    "- **ln** - implementuje funkci `ln`\n",
    "- **frc** - implementuje funkci `1/x`\n",
    "- **identity** - implementuje identitu `x`\n",
    "- **cst** - implementuje konstantu `c`\n",
    "- **mocnina** - implementuje mocninu `x^n`\n",
    "\n",
    "U všech funckí implementujte adekvátně metodu `diff()` a `__str__()`, tak aby se funkce vypisovaly v přehledné podobě.\n",
    "\n",
    "Ozkoušejte na následujících funkcích:\n",
    "- $sin(x + cos(x*x)) + 1$\n",
    "- $x^2 + 2x + 1 + 2x^2$\n",
    "- $x^2 + 2x + exp(x)$"
   ]
  },
  {
   "cell_type": "code",
   "execution_count": 9,
   "metadata": {},
   "outputs": [],
   "source": [
    "# kostra k doplnění, místa označená TODO doplňte\n",
    "\n",
    "class Operator:\n",
    "    def __init__(self):\n",
    "        pass\n",
    "    \n",
    "    def __str__(self):\n",
    "        return type(self).__name__\n",
    "    \n",
    "    def __repr__(self):\n",
    "        return self.__str__()\n",
    "    \n",
    "    def diff(self):\n",
    "        pass\n",
    "\n",
    "    def simplify(self):\n",
    "        pass\n",
    "    \n",
    "    def __add__(self, other):\n",
    "        return Addition(self, other)\n",
    "    \n",
    "    def __sub__(self, other):\n",
    "        return Addition(self, Multiplication(other, cst(-1)))\n",
    "    \n",
    "    def __mul__(self, other):\n",
    "        return Multiplication(self, other)\n",
    "    \n",
    "class BinaryOperator(Operator):\n",
    "    def __init__(self, levy_argument, pravy_argument):\n",
    "        self.levy_argument = levy_argument\n",
    "        self.pravy_argument = pravy_argument\n",
    "        \n",
    "class UnaryOperator(Operator):\n",
    "    def __init__(self, argument):\n",
    "        self.argument = argument\n",
    "    def __str__(self):\n",
    "        return type(self).__name__ + \"(\" + str(self.argument) + \")\"\n",
    "\n",
    "class Addition(BinaryOperator):\n",
    "    def __str__(self):\n",
    "        return f\"({self.levy_argument}+{self.pravy_argument})\"\n",
    "    def diff(self):\n",
    "        return Addition(self.levy_argument.diff(), self.pravy_argument.diff())\n",
    "    def simplify(self):\n",
    "        if isinstance(self.levy_argument, cst) and self.levy_argument.value == 0:\n",
    "            return self.pravy_argument\n",
    "        if isinstance(self.pravy_argument, cst) and self.pravy_argument.value == 0:\n",
    "            return self.levy_argument\n",
    "    \n",
    "class Multiplication(BinaryOperator):\n",
    "    def __str__(self):\n",
    "        return f\"({self.levy_argument}*{self.pravy_argument})\"\n",
    "    def diff(self):\n",
    "        return Addition(Multiplication(self.levy_argument.diff(), self.pravy_argument), Multiplication(self.levy_argument, self.pravy_argument.diff()))\n",
    "    def simplify(self):\n",
    "        if isinstance(self.levy_argument, cst) and self.levy_argument.value == 0:\n",
    "            return self.levy_argument\n",
    "        if isinstance(self.pravy_argument, cst) and self.pravy_argument.value == 0:\n",
    "            return self.pravy_argument\n",
    "        if isinstance(self.levy_argument, cst) and self.levy_argument.value == 1:\n",
    "            return self.pravy_argument\n",
    "        if isinstance(self.pravy_argument, cst) and self.pravy_argument.value == 1:\n",
    "            return self.levy_argument\n",
    "        if isinstance(self.levy_argument, cst) and isinstance(self.pravy_argument, cst):\n",
    "            return cst(self.levy_argument.value * self.pravy_argument.value)\n",
    "        return self\n",
    "    \n",
    "class cst(UnaryOperator):\n",
    "    def __init__(self, value):\n",
    "        self.value = value\n",
    "    def __str__(self):\n",
    "        return str(self.value)\n",
    "    def diff(self):\n",
    "        return cst(0)\n",
    "\n",
    "class identity(UnaryOperator):\n",
    "    def __init__(self):\n",
    "        pass\n",
    "    def __str__(self):\n",
    "        return 'x'\n",
    "    def diff(self):\n",
    "        return cst(1)\n",
    "    \n",
    "class mocnina(UnaryOperator):\n",
    "    def __init__(self, argument, exponent):\n",
    "        self.argument = argument\n",
    "        self.exponent = exponent\n",
    "    def __str__(self):\n",
    "        return f\"{self.argument}^{self.exponent}\"\n",
    "    def diff(self):\n",
    "        return Multiplication(self.exponent, mocnina(self.argument,self.exponent-1))\n",
    "    \n",
    "class sin(UnaryOperator):\n",
    "    def diff(self):\n",
    "        return f\"(cos({self.argument})*({self.argument.diff()})\"\n",
    "\n",
    "class cos(UnaryOperator):\n",
    "    def diff(self):\n",
    "        return f\"(-sin({self.argument})*({self.argument.diff()})\"\n",
    "\n",
    "class exp(UnaryOperator):\n",
    "    def diff(self):\n",
    "        return f\"(exp({self.argument}))*({self.argument.diff()})\"\n",
    "    \n",
    "class ln(UnaryOperator):\n",
    "    def diff(self):\n",
    "        return f\"(1/x)*({self.argument.diff()})\"\n",
    "    \n",
    "class frc(UnaryOperator):\n",
    "    def __str__(self):\n",
    "        return f\"(1/{self.argument})\"\n",
    "    def diff(self):\n",
    "        return f\"(1/(({self.argument})^2))*(-1)*({self.argument.diff()})\""
   ]
  },
  {
   "cell_type": "code",
   "execution_count": 10,
   "metadata": {},
   "outputs": [
    {
     "name": "stdout",
     "output_type": "stream",
     "text": [
      "(sin((x+cos((x*x))))+1)\n",
      "((cos((x+cos((x*x))))*((1+(-sin((x*x))*(((1*x)+(x*1)))))+0)\n",
      "((2*x)+1)\n",
      "(((0*x)+(2*1))+0)\n",
      "((0*x)+(2*1))\n"
     ]
    }
   ],
   "source": [
    "# takto by se to mělo používat\n",
    "x = identity()\n",
    "# sin(x + cos(x*x)) + 1\n",
    "f1 = sin(x + cos(x*x)) + cst(1)\n",
    "print(f1)\n",
    "print(f1.diff())\n",
    "\n",
    "print((cst(2)*x+cst(1)))\n",
    "print((cst(2)*x+cst(1)).diff())\n",
    "f4 = (cst(2)*x+cst(1)).diff()\n",
    "print(f4.simplify())\n",
    "\n",
    "#simplify se mi nepodarilo zprovoznit"
   ]
  },
  {
   "attachments": {},
   "cell_type": "markdown",
   "metadata": {},
   "source": [
    "můj výstup byl:\n",
    "\n",
    "`sin(x + cos((x)*(x))) + 1`\n",
    "\n",
    "`(cos(x + cos((x)*(x))))*(1 + ((-1)*(sin((x)*(x))))*((1)*(x) + (x)*(1))) + 0`"
   ]
  },
  {
   "cell_type": "code",
   "execution_count": 63,
   "metadata": {},
   "outputs": [
    {
     "name": "stdout",
     "output_type": "stream",
     "text": [
      "(((x^2+(2)*(x))+1)+(2)*(x^2))\n",
      "((((2)*(x^1)+((0)*(x)+(2)*(1)))+0)+((0)*(x^2)+(2)*((2)*(x^1))))\n"
     ]
    }
   ],
   "source": [
    "x = identity()\n",
    "# x ^ 2 + 2x + 1 + 2x ^ 2\n",
    "f2 = mocnina(x,2) + cst(2)*x + cst(1) + cst(2)*mocnina(x,2)\n",
    "print(f2)\n",
    "print(f2.diff())\n"
   ]
  },
  {
   "attachments": {},
   "cell_type": "markdown",
   "metadata": {},
   "source": [
    "můj výstup byl:\n",
    "\n",
    "`(x)^2 + (2)*(x) + 1 + (2)*((x)^2)`\n",
    "\n",
    "`((2)*((x)^1))*(1) + (0)*(x) + (2)*(1) + 0 + (0)*((x)^2) + (2)*(((2)*((x)^1))*(1))`"
   ]
  },
  {
   "cell_type": "code",
   "execution_count": 71,
   "metadata": {},
   "outputs": [
    {
     "name": "stdout",
     "output_type": "stream",
     "text": [
      "((x^2+(2)*(x))+exp(x))\n",
      "(((2)*(x^1)+((0)*(x)+(2)*(1)))+(exp(x))*(1))\n"
     ]
    }
   ],
   "source": [
    "x = identity()\n",
    "# x ^ 2 + 2x + exp(x)\n",
    "f3 = mocnina(x,2) + cst(2)*x + exp(x)\n",
    "print(f3)\n",
    "print(f3.diff())\n"
   ]
  },
  {
   "attachments": {},
   "cell_type": "markdown",
   "metadata": {},
   "source": [
    "můj výstup byl:\n",
    "\n",
    "`(x)^2 + (2)*(x) + exp(x)`\n",
    "\n",
    "`((2)*((x)^1))*(1) + (0)*(x) + (2)*(1) + (exp(x))*(1)`\n"
   ]
  },
  {
   "attachments": {},
   "cell_type": "markdown",
   "metadata": {},
   "source": [
    "# Bonusový úkol:\n",
    "Doplňte ke všem třídám metodu `simplify()`, která provede zjednodušení výrazu. Například:\n",
    "- součet s nulou vrátí druhý operand\n",
    "- součin s nulou vrátí nulu\n",
    "- mocnina s exponentem 0 vrátí 1\n",
    "- mocnina s exponentem 1 vrátí první argument\n",
    "- součín dvou stejných argumentů vrátí mocninu s exponentem 2\n",
    "- součin konstant vrátí konstantu se součinem\n",
    "- ..."
   ]
  },
  {
   "cell_type": "markdown",
   "metadata": {},
   "source": []
  }
 ],
 "metadata": {
  "kernelspec": {
   "display_name": "Python 3",
   "language": "python",
   "name": "python3"
  },
  "language_info": {
   "codemirror_mode": {
    "name": "ipython",
    "version": 3
   },
   "file_extension": ".py",
   "mimetype": "text/x-python",
   "name": "python",
   "nbconvert_exporter": "python",
   "pygments_lexer": "ipython3",
   "version": "3.8.10"
  },
  "orig_nbformat": 4,
  "vscode": {
   "interpreter": {
    "hash": "916dbcbb3f70747c44a77c7bcd40155683ae19c65e1c03b4aa3499c5328201f1"
   }
  }
 },
 "nbformat": 4,
 "nbformat_minor": 2
}
