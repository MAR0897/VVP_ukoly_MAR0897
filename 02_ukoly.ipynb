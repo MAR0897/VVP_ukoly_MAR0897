{
 "cells": [
  {
   "attachments": {},
   "cell_type": "markdown",
   "metadata": {},
   "source": [
    "# Prostory jmen a obor platnosti proměnných:\n",
    "- Upravte funkci nalézající prvočísla tak, aby ukládala již spočítané prvočísla do listu v defaultním argumentu funkce. \n"
   ]
  },
  {
   "cell_type": "code",
   "execution_count": 26,
   "metadata": {},
   "outputs": [
    {
     "name": "stdout",
     "output_type": "stream",
     "text": [
      "[2, 3, 4, 5, 6, 7, 8, 9, 11, 13]\n",
      "[2, 3, 4, 5, 6, 7, 8, 9, 11, 13, 2, 3, 4, 5, 6, 7, 8, 9, 11, 13]\n",
      "[2, 3, 4, 5, 6]\n"
     ]
    }
   ],
   "source": [
    "def najdi_prvocisla(pocet, prvocisla = []):\n",
    "    if len(prvocisla)>=pocet:\n",
    "        return prvocisla[:pocet]\n",
    "    n = 2\n",
    "    while len(prvocisla) < pocet:\n",
    "        check = True\n",
    "        for i in range(2, int(n**0.5)):\n",
    "            if(n%i == 0):\n",
    "                check = False\n",
    "                break\n",
    "        if check:\n",
    "            prvocisla.append(n)\n",
    "        n+=1\n",
    "    return prvocisla[:pocet]\n",
    "\n",
    "print(najdi_prvocisla(10))\n",
    "print(najdi_prvocisla(20))\n",
    "print(najdi_prvocisla(5))"
   ]
  },
  {
   "attachments": {},
   "cell_type": "markdown",
   "metadata": {},
   "source": [
    "\n",
    "# Jupyter magics:\n",
    "- použijte funkci %%writefile a pomocí ní (a kopie funkcí z posledního DU) vytvořte .py soubor sloužící jako modul mající tři funkce viz minulý DU\n",
    "- Použijte magic příkazy %time %timeit %%time a %%timeit k měření času běhu různých částí kódu (například funkcí z minulého DU).\n"
   ]
  },
  {
   "cell_type": "code",
   "execution_count": null,
   "metadata": {},
   "outputs": [],
   "source": [
    "%%writefile ahoj.py\n",
    "\n",
    "def odmocnina(a, n):\n",
    "    x=a\n",
    "    for i in range(n):\n",
    "        x=((a/x)+x)/2\n",
    "    return x\n",
    "\n",
    "def pi_v1(n):\n",
    "    v_n = odmocnina(1-(0.5)**2,100)\n",
    "    b_n = 1\n",
    "    a = 1\n",
    "    for i in range(n):\n",
    "        b_2n = odmocnina(((b_n/2)**2)+((1-v_n)**2),100)\n",
    "        v_2n = odmocnina(1-((b_2n/2)**2),100)\n",
    "        b_n = b_2n\n",
    "        v_n = v_2n\n",
    "    return 6*(2**n)*b_2n*v_2n/2\n",
    "\n",
    "def pi_v2(n):\n",
    "    suma = D(0)\n",
    "    a = D(1/(2**4))\n",
    "    for i in range(1, n+1):\n",
    "        suma+=D(a/D(((2*i)+1)))\n",
    "        a = D(a * D(((2*(i+1)-3)/(2*(i+1)))*(1/(2**2))))\n",
    "    return D(D(12)*(D((D(-odmocnina(3,100000))/D(8)))+D(0.5)-suma))"
   ]
  },
  {
   "cell_type": "markdown",
   "metadata": {},
   "source": [
    "\n",
    "# Práce s řetězci:\n",
    "\n",
    "- Použíjte funkce z minulého úkolu a v cyklu spočtěte $\\pi$ s různým $n$. Pomocí f-strings vypište výsledky ve formátu \"n = 5, pi = 3.14159, počet správných cifer = 5\".\n"
   ]
  },
  {
   "cell_type": "code",
   "execution_count": null,
   "metadata": {},
   "outputs": [],
   "source": []
  },
  {
   "cell_type": "markdown",
   "metadata": {},
   "source": [
    "\n",
    "# Generátory a iterátory:\n",
    "\n",
    "- Napište generátor (funkci), který vytváří Fibonacciho posloupnost a vrátí prvních $n$ členů.\n"
   ]
  },
  {
   "cell_type": "code",
   "execution_count": 34,
   "metadata": {},
   "outputs": [
    {
     "name": "stdout",
     "output_type": "stream",
     "text": [
      "[0, 1, 1, 2, 3, 5, 8, 13, 21, 34, 55, 89, 144, 233, 377, 610, 987, 1597, 2584, 4181]\n"
     ]
    }
   ],
   "source": [
    "def fibonacci(pocet, rada = []):\n",
    "    if len(rada)>=pocet:\n",
    "        return rada[:pocet]\n",
    "    n1 = 0\n",
    "    n2 = 1\n",
    "    rada.append(n1)\n",
    "    rada.append(n2)\n",
    "    while len(rada) < pocet:\n",
    "        rada.append(n1+n2)\n",
    "        n2 = rada[len(rada)-1]\n",
    "        n1 = rada[len(rada)-2]\n",
    "    return rada[:pocet]\n",
    "\n",
    "print(fibonacci(20))"
   ]
  },
  {
   "cell_type": "markdown",
   "metadata": {},
   "source": [
    "\n",
    "# List comprehension:\n",
    "- Vytvořte seznam čísel od 1 do 10 pomocí list comprehension.\n",
    "- Vytvořte seznam druhých mocnin čísel od 1 do 10 pomocí list comprehension.\n",
    "- Vytvořte seznam prvočísel od 1 do 100 pomocí list comprehension. Hint (použijte funkci all() na generátor testující dělitelnost).\n"
   ]
  },
  {
   "cell_type": "code",
   "execution_count": 57,
   "metadata": {},
   "outputs": [
    {
     "name": "stdout",
     "output_type": "stream",
     "text": [
      "[1, 2, 3, 4, 5, 6, 7, 8, 9, 10]\n",
      "[1, 4, 9, 16, 25, 36, 49, 64, 81, 100]\n",
      "[2, 3, 5, 7, 11, 13, 17, 19, 23, 29, 31, 37, 41, 43, 47, 53, 59, 61, 67, 71, 73, 79, 83, 89, 97]\n"
     ]
    }
   ],
   "source": [
    "print([i for i in range(1, 11)])\n",
    "print([i**2 for i in range(1, 11)])\n",
    "print([i for i in range(2, 101) if all(i % j != 0 for j in range(2, int(i**0.5)+1))])\n"
   ]
  },
  {
   "cell_type": "markdown",
   "metadata": {},
   "source": [
    "\n",
    "# Práce se soubory:\n",
    "- Pomocí %%writefile vytvořte soubor s nějakým textem.\n",
    "- Otevřete soubor pro čtení a vypište jeho obsah.\n",
    "- Otevřete jiný soubor pro zápis a napište do něj textový řetězec.\n",
    "- Pomocí f-strings zapište do souboru tabulku čísel od 1 do 10, jejich druhých mocnin a jejich druhých odmocnin."
   ]
  },
  {
   "cell_type": "code",
   "execution_count": null,
   "metadata": {},
   "outputs": [],
   "source": []
  },
  {
   "attachments": {},
   "cell_type": "markdown",
   "metadata": {},
   "source": [
    "# Domácí úkol:\n",
    "Pomocí vlastních tříd a dědičnosti vytvořte \"soubor tříd\" = nástroj pro derivaci funkcí.\n",
    "\n",
    "Konkrétněji:\n",
    "- Vytvořte třídu **Operator**\n",
    "    - Třída bude mít metody:\n",
    "        - `__init__()` - inicializuje operátor (zde stačí `pass`)\n",
    "        - `__str__()` - vrací řetězec reprezentující operátor\n",
    "        - `__repr__()` - vrací řetězec reprezentující operátor\n",
    "- Vytvořte třídu **BinaryOperator**, která bude dědit od třídy Operator\n",
    "    - Třída bude mít atributy:\n",
    "        - `levy_argument` - levý operand\n",
    "        - `pravy_argument` - pravý operand\n",
    "    - Třída bude mít metody:\n",
    "        - `__init__()` - inicializuje operátor, přiřadí argumenty\n",
    "        - `__str__()` - vrací řetězec reprezentující operátor\n",
    "        - `__repr__()` - vrací řetězec reprezentující operátor\n",
    "        - `diff()` - vrací derivaci operátoru\n",
    "- Vytvořte třídu **UnaryOperator**, která bude dědit od třídy Operator\n",
    "    - Třída bude mít atributy:\n",
    "        - `argument` - argument funkce \n",
    "    - Třída bude mít metody:\n",
    "        - `__init__()` - inicializuje operátor, přiřadí argument\n",
    "        - `__str__()` - vrací řetězec reprezentující operátor\n",
    "        - `__repr__()` - vrací řetězec reprezentující operátor\n",
    "        - `diff()` - vrací derivaci operátoru\n",
    "\n",
    "Pro počítání derivací použijte standardní pravidla:\n",
    "- derivace součtu je součet derivací\n",
    "- pravidlo pro derivaci součinu\n",
    "- derivace funkce je derivovaná funkce násobená derivovaným argumentem\n",
    "\n",
    "Pro **BinaryOperator** a **UnaryOperator** implementujte také metody implementující standardní operátory:\n",
    "- `__add__()` - implementuje operátor `+`\n",
    "- `__sub__()` - implementuje operátor `-`\n",
    "- `__mul__()` - implementuje operátor `*`\n",
    "\n",
    "Pro **BinaryOperator** implementujte dvě dceřiné třídy:\n",
    "- **Addition** - implementuje operátor `+`\n",
    "- **Multiplication** - implementuje operátor `*`\n",
    "\n",
    "Pro **UnaryOperator** implementujte tyto dceřiné třídy:\n",
    "- **exp** - implementuje funkci `exp`\n",
    "- **sin** - implementuje funkci `sin`\n",
    "- **cos** - implementuje funkci `cos`\n",
    "- **ln** - implementuje funkci `ln`\n",
    "- **frc** - implementuje funkci `1/x`\n",
    "- **identity** - implementuje identitu `x`\n",
    "- **cst** - implementuje konstantu `c`\n",
    "- **mocnina** - implementuje mocninu `x^n`\n",
    "\n",
    "U všech funckí implementujte adekvátně metodu `diff()` a `__str__()`, tak aby se funkce vypisovaly v přehledné podobě.\n",
    "\n",
    "Ozkoušejte na následujících funkcích:\n",
    "- $sin(x + cos(x*x)) + 1$\n",
    "- $x^2 + 2x + 1 + 2x^2$\n",
    "- $x^2 + 2x + exp(x)$"
   ]
  },
  {
   "cell_type": "code",
   "execution_count": 62,
   "metadata": {},
   "outputs": [],
   "source": [
    "# kostra k doplnění, místa označená TODO doplňte\n",
    "\n",
    "class Operator:\n",
    "    def __init__(self):\n",
    "        pass\n",
    "    \n",
    "    def __str__(self):\n",
    "        return type(self).__name__\n",
    "    \n",
    "    def __repr__(self):\n",
    "        return self.__str__()\n",
    "    \n",
    "    def diff(self):\n",
    "        pass\n",
    "    \n",
    "    def __add__(self, other):\n",
    "        return Addition(self, other)\n",
    "    \n",
    "    def __sub__(self, other):\n",
    "        return Addition(self, Multiplication(other, -1))\n",
    "    \n",
    "    def __mul__(self, other):\n",
    "        return Multiplication(self, other)\n",
    "    \n",
    "class BinaryOperator(Operator):\n",
    "    def __init__(self, levy_argument, pravy_argument):\n",
    "        self.levy_argument = levy_argument\n",
    "        self.pravy_argument = pravy_argument\n",
    "        \n",
    "class UnaryOperator(Operator):\n",
    "    def __init__(self, argument):\n",
    "        self.argument = argument\n",
    "    def __str__(self):\n",
    "        return type(self).__name__ + \"(\" + str(self.argument) + \")\"\n",
    "        \n",
    "class Addition(BinaryOperator):\n",
    "    def __str__(self):\n",
    "        return \"(\" + str(self.levy_argument) + '+' + str(self.pravy_argument) + \")\"\n",
    "    def diff(self):\n",
    "        return Addition(self.levy_argument.diff(), self.pravy_argument.diff())\n",
    "    \n",
    "class Multiplication(BinaryOperator):\n",
    "    def __str__(self):\n",
    "        return \"(\" + str(self.levy_argument) + '*' + str(self.pravy_argument) + \")\"\n",
    "    def diff(self):\n",
    "        return Addition(Multiplication(self.levy_argument.diff(), self.pravy_argument), Multiplication(self.levy_argument, self.pravy_argument.diff()))\n",
    "    \n",
    "class cst(UnaryOperator):\n",
    "    def __init__(self, value):\n",
    "        self.value = value\n",
    "    def __str__(self):\n",
    "        return str(self.value)\n",
    "    def diff(self):\n",
    "        return cst(0)\n",
    "    \n",
    "class identity(UnaryOperator):\n",
    "    def __init__(self):\n",
    "        pass\n",
    "    def __str__(self):\n",
    "        return 'x'\n",
    "    def diff(self):\n",
    "        return cst(1)\n",
    "    \n",
    "class mocnina(UnaryOperator):\n",
    "    def __init__(self, argument, exponent):\n",
    "        self.argument = argument\n",
    "        self.exponent = exponent\n",
    "    def __str__(self):\n",
    "        return str(self.argument) + '^' + str(self.exponent)\n",
    "    def diff(self):\n",
    "        return Multiplication(self.exponent, mocnina(self.argument,self.exponent-1))\n",
    "    \n",
    "class sin(UnaryOperator):\n",
    "    def diff(self):\n",
    "        # TODO\n",
    "        pass\n",
    "\n",
    "class cos(UnaryOperator):\n",
    "    def diff(self):\n",
    "        # TODO\n",
    "        pass\n",
    "\n",
    "class exp(UnaryOperator):\n",
    "    def diff(self):\n",
    "        # TODO\n",
    "        pass\n",
    "    \n",
    "class ln(UnaryOperator):\n",
    "    def diff(self):\n",
    "        # TODO\n",
    "        pass\n",
    "\n",
    "class frc(UnaryOperator):\n",
    "    def __str__(self):\n",
    "        # TODO vypíšeme něco jako 1/(argument)\n",
    "        pass\n",
    "    \n",
    "    def diff(self):\n",
    "        # TODO\n",
    "        pass"
   ]
  },
  {
   "cell_type": "code",
   "execution_count": 67,
   "metadata": {},
   "outputs": [
    {
     "name": "stdout",
     "output_type": "stream",
     "text": [
      "(((3*x)+2)+(x^-1*-1))\n"
     ]
    },
    {
     "ename": "AttributeError",
     "evalue": "'int' object has no attribute 'diff'",
     "output_type": "error",
     "traceback": [
      "\u001b[0;31m---------------------------------------------------------------------------\u001b[0m",
      "\u001b[0;31mAttributeError\u001b[0m                            Traceback (most recent call last)",
      "Cell \u001b[0;32mIn[67], line 6\u001b[0m\n\u001b[1;32m      4\u001b[0m f1 \u001b[39m=\u001b[39m cst(\u001b[39m3\u001b[39m) \u001b[39m*\u001b[39m x \u001b[39m+\u001b[39m cst(\u001b[39m2\u001b[39m) \u001b[39m-\u001b[39m mocnina(x, \u001b[39m-\u001b[39m\u001b[39m1\u001b[39m)\n\u001b[1;32m      5\u001b[0m \u001b[39mprint\u001b[39m(f1)\n\u001b[0;32m----> 6\u001b[0m \u001b[39mprint\u001b[39m(f1\u001b[39m.\u001b[39;49mdiff())\n",
      "Cell \u001b[0;32mIn[62], line 40\u001b[0m, in \u001b[0;36mAddition.diff\u001b[0;34m(self)\u001b[0m\n\u001b[1;32m     39\u001b[0m \u001b[39mdef\u001b[39;00m \u001b[39mdiff\u001b[39m(\u001b[39mself\u001b[39m):\n\u001b[0;32m---> 40\u001b[0m     \u001b[39mreturn\u001b[39;00m Addition(\u001b[39mself\u001b[39m\u001b[39m.\u001b[39mlevy_argument\u001b[39m.\u001b[39mdiff(), \u001b[39mself\u001b[39;49m\u001b[39m.\u001b[39;49mpravy_argument\u001b[39m.\u001b[39;49mdiff())\n",
      "Cell \u001b[0;32mIn[62], line 46\u001b[0m, in \u001b[0;36mMultiplication.diff\u001b[0;34m(self)\u001b[0m\n\u001b[1;32m     45\u001b[0m \u001b[39mdef\u001b[39;00m \u001b[39mdiff\u001b[39m(\u001b[39mself\u001b[39m):\n\u001b[0;32m---> 46\u001b[0m     \u001b[39mreturn\u001b[39;00m Addition(Multiplication(\u001b[39mself\u001b[39m\u001b[39m.\u001b[39mlevy_argument\u001b[39m.\u001b[39mdiff(), \u001b[39mself\u001b[39m\u001b[39m.\u001b[39mpravy_argument), Multiplication(\u001b[39mself\u001b[39m\u001b[39m.\u001b[39mlevy_argument, \u001b[39mself\u001b[39;49m\u001b[39m.\u001b[39;49mpravy_argument\u001b[39m.\u001b[39;49mdiff()))\n",
      "\u001b[0;31mAttributeError\u001b[0m: 'int' object has no attribute 'diff'"
     ]
    }
   ],
   "source": [
    "# takto by se to mělo používat\n",
    "x = identity()\n",
    "# sin(x + cos(x*x)) + 1\n",
    "f1 = cst(3) * x + cst(2) - mocnina(x, -1)\n",
    "print(f1)\n",
    "print(f1.diff())\n",
    "odecitani nefunguje"
   ]
  },
  {
   "attachments": {},
   "cell_type": "markdown",
   "metadata": {},
   "source": [
    "můj výstup byl:\n",
    "\n",
    "`sin(x + cos((x)*(x))) + 1`\n",
    "\n",
    "`(cos(x + cos((x)*(x))))*(1 + ((-1)*(sin((x)*(x))))*((1)*(x) + (x)*(1))) + 0`"
   ]
  },
  {
   "cell_type": "code",
   "execution_count": null,
   "metadata": {},
   "outputs": [],
   "source": [
    "x = identity()\n",
    "# x ^ 2 + 2x + 1 + 2x ^ 2\n",
    "f2 = mocnina(x,2) + cst(2)*x + cst(1) + cst(2)*mocnina(x,2)\n",
    "print(f2)\n",
    "print(f2.diff())\n"
   ]
  },
  {
   "attachments": {},
   "cell_type": "markdown",
   "metadata": {},
   "source": [
    "můj výstup byl:\n",
    "\n",
    "`(x)^2 + (2)*(x) + 1 + (2)*((x)^2)`\n",
    "\n",
    "`((2)*((x)^1))*(1) + (0)*(x) + (2)*(1) + 0 + (0)*((x)^2) + (2)*(((2)*((x)^1))*(1))`"
   ]
  },
  {
   "cell_type": "code",
   "execution_count": null,
   "metadata": {},
   "outputs": [],
   "source": [
    "x = identity()\n",
    "# x ^ 2 + 2x + exp(x)\n",
    "f3 = mocnina(x,2) + cst(2)*x + exp(x)\n",
    "print(f3)\n",
    "print(f3.diff())\n"
   ]
  },
  {
   "attachments": {},
   "cell_type": "markdown",
   "metadata": {},
   "source": [
    "můj výstup byl:\n",
    "\n",
    "`(x)^2 + (2)*(x) + exp(x)`\n",
    "\n",
    "`((2)*((x)^1))*(1) + (0)*(x) + (2)*(1) + (exp(x))*(1)`\n"
   ]
  },
  {
   "attachments": {},
   "cell_type": "markdown",
   "metadata": {},
   "source": [
    "# Bonusový úkol:\n",
    "Doplňte ke všem třídám metodu `simplify()`, která provede zjednodušení výrazu. Například:\n",
    "- součet s nulou vrátí druhý operand\n",
    "- součin s nulou vrátí nulu\n",
    "- mocnina s exponentem 0 vrátí 1\n",
    "- mocnina s exponentem 1 vrátí první argument\n",
    "- součín dvou stejných argumentů vrátí mocninu s exponentem 2\n",
    "- součin konstant vrátí konstantu se součinem\n",
    "- ..."
   ]
  },
  {
   "cell_type": "markdown",
   "metadata": {},
   "source": []
  }
 ],
 "metadata": {
  "kernelspec": {
   "display_name": "Python 3",
   "language": "python",
   "name": "python3"
  },
  "language_info": {
   "codemirror_mode": {
    "name": "ipython",
    "version": 3
   },
   "file_extension": ".py",
   "mimetype": "text/x-python",
   "name": "python",
   "nbconvert_exporter": "python",
   "pygments_lexer": "ipython3",
   "version": "3.10.6"
  },
  "orig_nbformat": 4,
  "vscode": {
   "interpreter": {
    "hash": "916dbcbb3f70747c44a77c7bcd40155683ae19c65e1c03b4aa3499c5328201f1"
   }
  }
 },
 "nbformat": 4,
 "nbformat_minor": 2
}
